{
 "cells": [
  {
   "cell_type": "markdown",
   "metadata": {},
   "source": [
    "# 데이터 불러오고 기본적인 분석 하기"
   ]
  },
  {
   "cell_type": "code",
   "execution_count": 1,
   "metadata": {},
   "outputs": [],
   "source": [
    "import numpy as np \n",
    "import pandas as pd \n",
    "import matplotlib.pyplot as plt"
   ]
  },
  {
   "cell_type": "code",
   "execution_count": 2,
   "metadata": {},
   "outputs": [],
   "source": [
    "test = pd.read_csv('satisfaction_test.csv')\n",
    "train = pd.read_csv('satisfaction_train.csv')"
   ]
  },
  {
   "cell_type": "code",
   "execution_count": 3,
   "metadata": {},
   "outputs": [
    {
     "data": {
      "text/html": [
       "<div>\n",
       "<style scoped>\n",
       "    .dataframe tbody tr th:only-of-type {\n",
       "        vertical-align: middle;\n",
       "    }\n",
       "\n",
       "    .dataframe tbody tr th {\n",
       "        vertical-align: top;\n",
       "    }\n",
       "\n",
       "    .dataframe thead th {\n",
       "        text-align: right;\n",
       "    }\n",
       "</style>\n",
       "<table border=\"1\" class=\"dataframe\">\n",
       "  <thead>\n",
       "    <tr style=\"text-align: right;\">\n",
       "      <th></th>\n",
       "      <th>Unnamed: 0</th>\n",
       "      <th>Gender</th>\n",
       "      <th>Customer Type</th>\n",
       "      <th>Age</th>\n",
       "      <th>Type of Travel</th>\n",
       "      <th>Class</th>\n",
       "      <th>Flight Distance</th>\n",
       "      <th>Seat comfort</th>\n",
       "      <th>Departure/Arrival time convenient</th>\n",
       "      <th>Food and drink</th>\n",
       "      <th>...</th>\n",
       "      <th>Ease of Online booking</th>\n",
       "      <th>On-board service</th>\n",
       "      <th>Leg room service</th>\n",
       "      <th>Baggage handling</th>\n",
       "      <th>Checkin service</th>\n",
       "      <th>Cleanliness</th>\n",
       "      <th>Online boarding</th>\n",
       "      <th>Departure Delay in Minutes</th>\n",
       "      <th>Arrival Delay in Minutes</th>\n",
       "      <th>satisfaction</th>\n",
       "    </tr>\n",
       "  </thead>\n",
       "  <tbody>\n",
       "    <tr>\n",
       "      <th>0</th>\n",
       "      <td>105527</td>\n",
       "      <td>Female</td>\n",
       "      <td>Loyal Customer</td>\n",
       "      <td>39</td>\n",
       "      <td>Business travel</td>\n",
       "      <td>Business</td>\n",
       "      <td>2725</td>\n",
       "      <td>5</td>\n",
       "      <td>5</td>\n",
       "      <td>2</td>\n",
       "      <td>...</td>\n",
       "      <td>4</td>\n",
       "      <td>4</td>\n",
       "      <td>4</td>\n",
       "      <td>4</td>\n",
       "      <td>4</td>\n",
       "      <td>4</td>\n",
       "      <td>4</td>\n",
       "      <td>73</td>\n",
       "      <td>65.0</td>\n",
       "      <td>satisfied</td>\n",
       "    </tr>\n",
       "    <tr>\n",
       "      <th>1</th>\n",
       "      <td>82617</td>\n",
       "      <td>Female</td>\n",
       "      <td>Loyal Customer</td>\n",
       "      <td>27</td>\n",
       "      <td>Business travel</td>\n",
       "      <td>Business</td>\n",
       "      <td>1634</td>\n",
       "      <td>3</td>\n",
       "      <td>3</td>\n",
       "      <td>3</td>\n",
       "      <td>...</td>\n",
       "      <td>3</td>\n",
       "      <td>3</td>\n",
       "      <td>4</td>\n",
       "      <td>4</td>\n",
       "      <td>2</td>\n",
       "      <td>3</td>\n",
       "      <td>3</td>\n",
       "      <td>39</td>\n",
       "      <td>37.0</td>\n",
       "      <td>dissatisfied</td>\n",
       "    </tr>\n",
       "    <tr>\n",
       "      <th>2</th>\n",
       "      <td>34069</td>\n",
       "      <td>Female</td>\n",
       "      <td>Loyal Customer</td>\n",
       "      <td>21</td>\n",
       "      <td>Personal Travel</td>\n",
       "      <td>Eco Plus</td>\n",
       "      <td>1341</td>\n",
       "      <td>4</td>\n",
       "      <td>4</td>\n",
       "      <td>0</td>\n",
       "      <td>...</td>\n",
       "      <td>1</td>\n",
       "      <td>4</td>\n",
       "      <td>1</td>\n",
       "      <td>3</td>\n",
       "      <td>5</td>\n",
       "      <td>4</td>\n",
       "      <td>1</td>\n",
       "      <td>0</td>\n",
       "      <td>0.0</td>\n",
       "      <td>satisfied</td>\n",
       "    </tr>\n",
       "    <tr>\n",
       "      <th>3</th>\n",
       "      <td>18636</td>\n",
       "      <td>Male</td>\n",
       "      <td>Loyal Customer</td>\n",
       "      <td>64</td>\n",
       "      <td>Personal Travel</td>\n",
       "      <td>Eco Plus</td>\n",
       "      <td>3794</td>\n",
       "      <td>2</td>\n",
       "      <td>5</td>\n",
       "      <td>2</td>\n",
       "      <td>...</td>\n",
       "      <td>5</td>\n",
       "      <td>3</td>\n",
       "      <td>3</td>\n",
       "      <td>5</td>\n",
       "      <td>1</td>\n",
       "      <td>4</td>\n",
       "      <td>1</td>\n",
       "      <td>570</td>\n",
       "      <td>567.0</td>\n",
       "      <td>dissatisfied</td>\n",
       "    </tr>\n",
       "    <tr>\n",
       "      <th>4</th>\n",
       "      <td>28693</td>\n",
       "      <td>Female</td>\n",
       "      <td>Loyal Customer</td>\n",
       "      <td>69</td>\n",
       "      <td>Personal Travel</td>\n",
       "      <td>Eco</td>\n",
       "      <td>1237</td>\n",
       "      <td>5</td>\n",
       "      <td>5</td>\n",
       "      <td>5</td>\n",
       "      <td>...</td>\n",
       "      <td>5</td>\n",
       "      <td>5</td>\n",
       "      <td>5</td>\n",
       "      <td>5</td>\n",
       "      <td>3</td>\n",
       "      <td>5</td>\n",
       "      <td>4</td>\n",
       "      <td>69</td>\n",
       "      <td>72.0</td>\n",
       "      <td>satisfied</td>\n",
       "    </tr>\n",
       "  </tbody>\n",
       "</table>\n",
       "<p>5 rows × 24 columns</p>\n",
       "</div>"
      ],
      "text/plain": [
       "   Unnamed: 0  Gender   Customer Type  Age   Type of Travel     Class  \\\n",
       "0      105527  Female  Loyal Customer   39  Business travel  Business   \n",
       "1       82617  Female  Loyal Customer   27  Business travel  Business   \n",
       "2       34069  Female  Loyal Customer   21  Personal Travel  Eco Plus   \n",
       "3       18636    Male  Loyal Customer   64  Personal Travel  Eco Plus   \n",
       "4       28693  Female  Loyal Customer   69  Personal Travel       Eco   \n",
       "\n",
       "   Flight Distance  Seat comfort  Departure/Arrival time convenient  \\\n",
       "0             2725             5                                  5   \n",
       "1             1634             3                                  3   \n",
       "2             1341             4                                  4   \n",
       "3             3794             2                                  5   \n",
       "4             1237             5                                  5   \n",
       "\n",
       "   Food and drink  ...  Ease of Online booking  On-board service  \\\n",
       "0               2  ...                       4                 4   \n",
       "1               3  ...                       3                 3   \n",
       "2               0  ...                       1                 4   \n",
       "3               2  ...                       5                 3   \n",
       "4               5  ...                       5                 5   \n",
       "\n",
       "   Leg room service  Baggage handling  Checkin service  Cleanliness  \\\n",
       "0                 4                 4                4            4   \n",
       "1                 4                 4                2            3   \n",
       "2                 1                 3                5            4   \n",
       "3                 3                 5                1            4   \n",
       "4                 5                 5                3            5   \n",
       "\n",
       "   Online boarding  Departure Delay in Minutes  Arrival Delay in Minutes  \\\n",
       "0                4                          73                      65.0   \n",
       "1                3                          39                      37.0   \n",
       "2                1                           0                       0.0   \n",
       "3                1                         570                     567.0   \n",
       "4                4                          69                      72.0   \n",
       "\n",
       "   satisfaction  \n",
       "0     satisfied  \n",
       "1  dissatisfied  \n",
       "2     satisfied  \n",
       "3  dissatisfied  \n",
       "4     satisfied  \n",
       "\n",
       "[5 rows x 24 columns]"
      ]
     },
     "execution_count": 3,
     "metadata": {},
     "output_type": "execute_result"
    }
   ],
   "source": [
    "train.head()"
   ]
  },
  {
   "cell_type": "code",
   "execution_count": 4,
   "metadata": {},
   "outputs": [
    {
     "name": "stdout",
     "output_type": "stream",
     "text": [
      "<class 'pandas.core.frame.DataFrame'>\n",
      "RangeIndex: 51794 entries, 0 to 51793\n",
      "Data columns (total 24 columns):\n",
      " #   Column                             Non-Null Count  Dtype  \n",
      "---  ------                             --------------  -----  \n",
      " 0   Unnamed: 0                         51794 non-null  int64  \n",
      " 1   Gender                             51794 non-null  object \n",
      " 2   Customer Type                      51794 non-null  object \n",
      " 3   Age                                51794 non-null  int64  \n",
      " 4   Type of Travel                     51794 non-null  object \n",
      " 5   Class                              51794 non-null  object \n",
      " 6   Flight Distance                    51794 non-null  int64  \n",
      " 7   Seat comfort                       51794 non-null  int64  \n",
      " 8   Departure/Arrival time convenient  51794 non-null  int64  \n",
      " 9   Food and drink                     51794 non-null  int64  \n",
      " 10  Gate location                      51794 non-null  int64  \n",
      " 11  Inflight wifi service              51794 non-null  int64  \n",
      " 12  Inflight entertainment             51794 non-null  int64  \n",
      " 13  Online support                     51794 non-null  int64  \n",
      " 14  Ease of Online booking             51794 non-null  int64  \n",
      " 15  On-board service                   51794 non-null  int64  \n",
      " 16  Leg room service                   51794 non-null  int64  \n",
      " 17  Baggage handling                   51794 non-null  int64  \n",
      " 18  Checkin service                    51794 non-null  int64  \n",
      " 19  Cleanliness                        51794 non-null  int64  \n",
      " 20  Online boarding                    51794 non-null  int64  \n",
      " 21  Departure Delay in Minutes         51794 non-null  int64  \n",
      " 22  Arrival Delay in Minutes           51794 non-null  float64\n",
      " 23  satisfaction                       51794 non-null  object \n",
      "dtypes: float64(1), int64(18), object(5)\n",
      "memory usage: 9.5+ MB\n"
     ]
    }
   ],
   "source": [
    "train.info()"
   ]
  },
  {
   "cell_type": "code",
   "execution_count": 5,
   "metadata": {},
   "outputs": [
    {
     "data": {
      "text/html": [
       "<div>\n",
       "<style scoped>\n",
       "    .dataframe tbody tr th:only-of-type {\n",
       "        vertical-align: middle;\n",
       "    }\n",
       "\n",
       "    .dataframe tbody tr th {\n",
       "        vertical-align: top;\n",
       "    }\n",
       "\n",
       "    .dataframe thead th {\n",
       "        text-align: right;\n",
       "    }\n",
       "</style>\n",
       "<table border=\"1\" class=\"dataframe\">\n",
       "  <thead>\n",
       "    <tr style=\"text-align: right;\">\n",
       "      <th></th>\n",
       "      <th>Unnamed: 0</th>\n",
       "      <th>Age</th>\n",
       "      <th>Flight Distance</th>\n",
       "      <th>Seat comfort</th>\n",
       "      <th>Departure/Arrival time convenient</th>\n",
       "      <th>Food and drink</th>\n",
       "      <th>Gate location</th>\n",
       "      <th>Inflight wifi service</th>\n",
       "      <th>Inflight entertainment</th>\n",
       "      <th>Online support</th>\n",
       "      <th>Ease of Online booking</th>\n",
       "      <th>On-board service</th>\n",
       "      <th>Leg room service</th>\n",
       "      <th>Baggage handling</th>\n",
       "      <th>Checkin service</th>\n",
       "      <th>Cleanliness</th>\n",
       "      <th>Online boarding</th>\n",
       "      <th>Departure Delay in Minutes</th>\n",
       "      <th>Arrival Delay in Minutes</th>\n",
       "    </tr>\n",
       "  </thead>\n",
       "  <tbody>\n",
       "    <tr>\n",
       "      <th>count</th>\n",
       "      <td>51794.000000</td>\n",
       "      <td>51794.000000</td>\n",
       "      <td>51794.000000</td>\n",
       "      <td>51794.000000</td>\n",
       "      <td>51794.000000</td>\n",
       "      <td>51794.000000</td>\n",
       "      <td>51794.000000</td>\n",
       "      <td>51794.000000</td>\n",
       "      <td>51794.000000</td>\n",
       "      <td>51794.000000</td>\n",
       "      <td>51794.000000</td>\n",
       "      <td>51794.000000</td>\n",
       "      <td>51794.000000</td>\n",
       "      <td>51794.000000</td>\n",
       "      <td>51794.000000</td>\n",
       "      <td>51794.000000</td>\n",
       "      <td>51794.00000</td>\n",
       "      <td>51794.000000</td>\n",
       "      <td>51794.000000</td>\n",
       "    </tr>\n",
       "    <tr>\n",
       "      <th>mean</th>\n",
       "      <td>64889.359462</td>\n",
       "      <td>39.476696</td>\n",
       "      <td>1982.460787</td>\n",
       "      <td>2.838302</td>\n",
       "      <td>2.989864</td>\n",
       "      <td>2.850137</td>\n",
       "      <td>2.985153</td>\n",
       "      <td>3.240549</td>\n",
       "      <td>3.384214</td>\n",
       "      <td>3.517531</td>\n",
       "      <td>3.465208</td>\n",
       "      <td>3.465382</td>\n",
       "      <td>3.484844</td>\n",
       "      <td>3.693034</td>\n",
       "      <td>3.341719</td>\n",
       "      <td>3.703865</td>\n",
       "      <td>3.34614</td>\n",
       "      <td>14.332606</td>\n",
       "      <td>14.760339</td>\n",
       "    </tr>\n",
       "    <tr>\n",
       "      <th>std</th>\n",
       "      <td>37395.800829</td>\n",
       "      <td>15.061524</td>\n",
       "      <td>1025.159270</td>\n",
       "      <td>1.388760</td>\n",
       "      <td>1.523256</td>\n",
       "      <td>1.439965</td>\n",
       "      <td>1.302518</td>\n",
       "      <td>1.316557</td>\n",
       "      <td>1.343171</td>\n",
       "      <td>1.304495</td>\n",
       "      <td>1.305777</td>\n",
       "      <td>1.269646</td>\n",
       "      <td>1.291196</td>\n",
       "      <td>1.155379</td>\n",
       "      <td>1.260248</td>\n",
       "      <td>1.152429</td>\n",
       "      <td>1.29917</td>\n",
       "      <td>37.721805</td>\n",
       "      <td>38.275159</td>\n",
       "    </tr>\n",
       "    <tr>\n",
       "      <th>min</th>\n",
       "      <td>0.000000</td>\n",
       "      <td>7.000000</td>\n",
       "      <td>50.000000</td>\n",
       "      <td>0.000000</td>\n",
       "      <td>0.000000</td>\n",
       "      <td>0.000000</td>\n",
       "      <td>1.000000</td>\n",
       "      <td>0.000000</td>\n",
       "      <td>0.000000</td>\n",
       "      <td>0.000000</td>\n",
       "      <td>0.000000</td>\n",
       "      <td>0.000000</td>\n",
       "      <td>0.000000</td>\n",
       "      <td>1.000000</td>\n",
       "      <td>0.000000</td>\n",
       "      <td>0.000000</td>\n",
       "      <td>0.00000</td>\n",
       "      <td>0.000000</td>\n",
       "      <td>0.000000</td>\n",
       "    </tr>\n",
       "    <tr>\n",
       "      <th>25%</th>\n",
       "      <td>32583.500000</td>\n",
       "      <td>27.000000</td>\n",
       "      <td>1360.000000</td>\n",
       "      <td>2.000000</td>\n",
       "      <td>2.000000</td>\n",
       "      <td>2.000000</td>\n",
       "      <td>2.000000</td>\n",
       "      <td>2.000000</td>\n",
       "      <td>2.000000</td>\n",
       "      <td>3.000000</td>\n",
       "      <td>2.000000</td>\n",
       "      <td>3.000000</td>\n",
       "      <td>2.000000</td>\n",
       "      <td>3.000000</td>\n",
       "      <td>3.000000</td>\n",
       "      <td>3.000000</td>\n",
       "      <td>2.00000</td>\n",
       "      <td>0.000000</td>\n",
       "      <td>0.000000</td>\n",
       "    </tr>\n",
       "    <tr>\n",
       "      <th>50%</th>\n",
       "      <td>64819.500000</td>\n",
       "      <td>40.000000</td>\n",
       "      <td>1929.000000</td>\n",
       "      <td>3.000000</td>\n",
       "      <td>3.000000</td>\n",
       "      <td>3.000000</td>\n",
       "      <td>3.000000</td>\n",
       "      <td>3.000000</td>\n",
       "      <td>4.000000</td>\n",
       "      <td>4.000000</td>\n",
       "      <td>4.000000</td>\n",
       "      <td>4.000000</td>\n",
       "      <td>4.000000</td>\n",
       "      <td>4.000000</td>\n",
       "      <td>3.000000</td>\n",
       "      <td>4.000000</td>\n",
       "      <td>3.00000</td>\n",
       "      <td>0.000000</td>\n",
       "      <td>0.000000</td>\n",
       "    </tr>\n",
       "    <tr>\n",
       "      <th>75%</th>\n",
       "      <td>97304.750000</td>\n",
       "      <td>51.000000</td>\n",
       "      <td>2543.750000</td>\n",
       "      <td>4.000000</td>\n",
       "      <td>4.000000</td>\n",
       "      <td>4.000000</td>\n",
       "      <td>4.000000</td>\n",
       "      <td>4.000000</td>\n",
       "      <td>4.000000</td>\n",
       "      <td>5.000000</td>\n",
       "      <td>5.000000</td>\n",
       "      <td>4.000000</td>\n",
       "      <td>5.000000</td>\n",
       "      <td>5.000000</td>\n",
       "      <td>4.000000</td>\n",
       "      <td>5.000000</td>\n",
       "      <td>4.00000</td>\n",
       "      <td>12.000000</td>\n",
       "      <td>13.000000</td>\n",
       "    </tr>\n",
       "    <tr>\n",
       "      <th>max</th>\n",
       "      <td>129878.000000</td>\n",
       "      <td>85.000000</td>\n",
       "      <td>6948.000000</td>\n",
       "      <td>5.000000</td>\n",
       "      <td>5.000000</td>\n",
       "      <td>5.000000</td>\n",
       "      <td>5.000000</td>\n",
       "      <td>5.000000</td>\n",
       "      <td>5.000000</td>\n",
       "      <td>5.000000</td>\n",
       "      <td>5.000000</td>\n",
       "      <td>5.000000</td>\n",
       "      <td>5.000000</td>\n",
       "      <td>5.000000</td>\n",
       "      <td>5.000000</td>\n",
       "      <td>5.000000</td>\n",
       "      <td>5.00000</td>\n",
       "      <td>1592.000000</td>\n",
       "      <td>1584.000000</td>\n",
       "    </tr>\n",
       "  </tbody>\n",
       "</table>\n",
       "</div>"
      ],
      "text/plain": [
       "          Unnamed: 0           Age  Flight Distance  Seat comfort  \\\n",
       "count   51794.000000  51794.000000     51794.000000  51794.000000   \n",
       "mean    64889.359462     39.476696      1982.460787      2.838302   \n",
       "std     37395.800829     15.061524      1025.159270      1.388760   \n",
       "min         0.000000      7.000000        50.000000      0.000000   \n",
       "25%     32583.500000     27.000000      1360.000000      2.000000   \n",
       "50%     64819.500000     40.000000      1929.000000      3.000000   \n",
       "75%     97304.750000     51.000000      2543.750000      4.000000   \n",
       "max    129878.000000     85.000000      6948.000000      5.000000   \n",
       "\n",
       "       Departure/Arrival time convenient  Food and drink  Gate location  \\\n",
       "count                       51794.000000    51794.000000   51794.000000   \n",
       "mean                            2.989864        2.850137       2.985153   \n",
       "std                             1.523256        1.439965       1.302518   \n",
       "min                             0.000000        0.000000       1.000000   \n",
       "25%                             2.000000        2.000000       2.000000   \n",
       "50%                             3.000000        3.000000       3.000000   \n",
       "75%                             4.000000        4.000000       4.000000   \n",
       "max                             5.000000        5.000000       5.000000   \n",
       "\n",
       "       Inflight wifi service  Inflight entertainment  Online support  \\\n",
       "count           51794.000000            51794.000000    51794.000000   \n",
       "mean                3.240549                3.384214        3.517531   \n",
       "std                 1.316557                1.343171        1.304495   \n",
       "min                 0.000000                0.000000        0.000000   \n",
       "25%                 2.000000                2.000000        3.000000   \n",
       "50%                 3.000000                4.000000        4.000000   \n",
       "75%                 4.000000                4.000000        5.000000   \n",
       "max                 5.000000                5.000000        5.000000   \n",
       "\n",
       "       Ease of Online booking  On-board service  Leg room service  \\\n",
       "count            51794.000000      51794.000000      51794.000000   \n",
       "mean                 3.465208          3.465382          3.484844   \n",
       "std                  1.305777          1.269646          1.291196   \n",
       "min                  0.000000          0.000000          0.000000   \n",
       "25%                  2.000000          3.000000          2.000000   \n",
       "50%                  4.000000          4.000000          4.000000   \n",
       "75%                  5.000000          4.000000          5.000000   \n",
       "max                  5.000000          5.000000          5.000000   \n",
       "\n",
       "       Baggage handling  Checkin service   Cleanliness  Online boarding  \\\n",
       "count      51794.000000     51794.000000  51794.000000      51794.00000   \n",
       "mean           3.693034         3.341719      3.703865          3.34614   \n",
       "std            1.155379         1.260248      1.152429          1.29917   \n",
       "min            1.000000         0.000000      0.000000          0.00000   \n",
       "25%            3.000000         3.000000      3.000000          2.00000   \n",
       "50%            4.000000         3.000000      4.000000          3.00000   \n",
       "75%            5.000000         4.000000      5.000000          4.00000   \n",
       "max            5.000000         5.000000      5.000000          5.00000   \n",
       "\n",
       "       Departure Delay in Minutes  Arrival Delay in Minutes  \n",
       "count                51794.000000              51794.000000  \n",
       "mean                    14.332606                 14.760339  \n",
       "std                     37.721805                 38.275159  \n",
       "min                      0.000000                  0.000000  \n",
       "25%                      0.000000                  0.000000  \n",
       "50%                      0.000000                  0.000000  \n",
       "75%                     12.000000                 13.000000  \n",
       "max                   1592.000000               1584.000000  "
      ]
     },
     "execution_count": 5,
     "metadata": {},
     "output_type": "execute_result"
    }
   ],
   "source": [
    "train.describe()"
   ]
  },
  {
   "cell_type": "markdown",
   "metadata": {},
   "source": [
    "# 범주형 데이터를 get_dummies()를 통해 가변수로 만들기"
   ]
  },
  {
   "cell_type": "code",
   "execution_count": 6,
   "metadata": {},
   "outputs": [],
   "source": [
    "# 변환 대상 가변수는 gender, customer type, type of travel, class\n",
    "\n",
    "Gender_train = pd.get_dummies(train['Gender'])\n",
    "Customer_Type_train = pd.get_dummies(train['Customer Type'])\n",
    "Type_of_Travel_train = pd.get_dummies(train['Type of Travel'])\n",
    "Class_train = pd.get_dummies(train['Class'])\n",
    "\n",
    "Gender_test = pd.get_dummies(test['Gender'])\n",
    "Customer_Type_test = pd.get_dummies(test['Customer Type'])\n",
    "Type_of_Travel_test = pd.get_dummies(test['Type of Travel'])\n",
    "Class_test = pd.get_dummies(test['Class'])"
   ]
  },
  {
   "cell_type": "code",
   "execution_count": 7,
   "metadata": {},
   "outputs": [],
   "source": [
    "train_label = train['satisfaction']\n",
    "train_dummy_mat = train.drop(['satisfaction','Gender','Customer Type','Type of Travel','Class','Unnamed: 0'], axis = 1)\n",
    "\n",
    "test_label = test['satisfaction']\n",
    "test_dummy_mat = test.drop(['satisfaction','Gender','Customer Type','Type of Travel','Class','Unnamed: 0'], axis = 1)"
   ]
  },
  {
   "cell_type": "code",
   "execution_count": 8,
   "metadata": {},
   "outputs": [],
   "source": [
    "train_dummy_featured = pd.concat([train_dummy_mat, Gender_train, Customer_Type_train, Type_of_Travel_train, Class_train ],axis = 1)\n",
    "\n",
    "test_dummy_featured = pd.concat([test_dummy_mat, Gender_test, Customer_Type_test, Type_of_Travel_test, Class_test ],axis = 1)"
   ]
  },
  {
   "cell_type": "code",
   "execution_count": 9,
   "metadata": {},
   "outputs": [
    {
     "data": {
      "text/html": [
       "<div>\n",
       "<style scoped>\n",
       "    .dataframe tbody tr th:only-of-type {\n",
       "        vertical-align: middle;\n",
       "    }\n",
       "\n",
       "    .dataframe tbody tr th {\n",
       "        vertical-align: top;\n",
       "    }\n",
       "\n",
       "    .dataframe thead th {\n",
       "        text-align: right;\n",
       "    }\n",
       "</style>\n",
       "<table border=\"1\" class=\"dataframe\">\n",
       "  <thead>\n",
       "    <tr style=\"text-align: right;\">\n",
       "      <th></th>\n",
       "      <th>Age</th>\n",
       "      <th>Flight Distance</th>\n",
       "      <th>Seat comfort</th>\n",
       "      <th>Departure/Arrival time convenient</th>\n",
       "      <th>Food and drink</th>\n",
       "      <th>Gate location</th>\n",
       "      <th>Inflight wifi service</th>\n",
       "      <th>Inflight entertainment</th>\n",
       "      <th>Online support</th>\n",
       "      <th>Ease of Online booking</th>\n",
       "      <th>...</th>\n",
       "      <th>Arrival Delay in Minutes</th>\n",
       "      <th>Female</th>\n",
       "      <th>Male</th>\n",
       "      <th>Loyal Customer</th>\n",
       "      <th>disloyal Customer</th>\n",
       "      <th>Business travel</th>\n",
       "      <th>Personal Travel</th>\n",
       "      <th>Business</th>\n",
       "      <th>Eco</th>\n",
       "      <th>Eco Plus</th>\n",
       "    </tr>\n",
       "  </thead>\n",
       "  <tbody>\n",
       "    <tr>\n",
       "      <th>0</th>\n",
       "      <td>39</td>\n",
       "      <td>2725</td>\n",
       "      <td>5</td>\n",
       "      <td>5</td>\n",
       "      <td>2</td>\n",
       "      <td>5</td>\n",
       "      <td>4</td>\n",
       "      <td>4</td>\n",
       "      <td>5</td>\n",
       "      <td>4</td>\n",
       "      <td>...</td>\n",
       "      <td>65.0</td>\n",
       "      <td>1</td>\n",
       "      <td>0</td>\n",
       "      <td>1</td>\n",
       "      <td>0</td>\n",
       "      <td>1</td>\n",
       "      <td>0</td>\n",
       "      <td>1</td>\n",
       "      <td>0</td>\n",
       "      <td>0</td>\n",
       "    </tr>\n",
       "    <tr>\n",
       "      <th>1</th>\n",
       "      <td>27</td>\n",
       "      <td>1634</td>\n",
       "      <td>3</td>\n",
       "      <td>3</td>\n",
       "      <td>3</td>\n",
       "      <td>3</td>\n",
       "      <td>3</td>\n",
       "      <td>3</td>\n",
       "      <td>3</td>\n",
       "      <td>3</td>\n",
       "      <td>...</td>\n",
       "      <td>37.0</td>\n",
       "      <td>1</td>\n",
       "      <td>0</td>\n",
       "      <td>1</td>\n",
       "      <td>0</td>\n",
       "      <td>1</td>\n",
       "      <td>0</td>\n",
       "      <td>1</td>\n",
       "      <td>0</td>\n",
       "      <td>0</td>\n",
       "    </tr>\n",
       "    <tr>\n",
       "      <th>2</th>\n",
       "      <td>21</td>\n",
       "      <td>1341</td>\n",
       "      <td>4</td>\n",
       "      <td>4</td>\n",
       "      <td>0</td>\n",
       "      <td>1</td>\n",
       "      <td>1</td>\n",
       "      <td>0</td>\n",
       "      <td>1</td>\n",
       "      <td>1</td>\n",
       "      <td>...</td>\n",
       "      <td>0.0</td>\n",
       "      <td>1</td>\n",
       "      <td>0</td>\n",
       "      <td>1</td>\n",
       "      <td>0</td>\n",
       "      <td>0</td>\n",
       "      <td>1</td>\n",
       "      <td>0</td>\n",
       "      <td>0</td>\n",
       "      <td>1</td>\n",
       "    </tr>\n",
       "    <tr>\n",
       "      <th>3</th>\n",
       "      <td>64</td>\n",
       "      <td>3794</td>\n",
       "      <td>2</td>\n",
       "      <td>5</td>\n",
       "      <td>2</td>\n",
       "      <td>4</td>\n",
       "      <td>2</td>\n",
       "      <td>1</td>\n",
       "      <td>1</td>\n",
       "      <td>5</td>\n",
       "      <td>...</td>\n",
       "      <td>567.0</td>\n",
       "      <td>0</td>\n",
       "      <td>1</td>\n",
       "      <td>1</td>\n",
       "      <td>0</td>\n",
       "      <td>0</td>\n",
       "      <td>1</td>\n",
       "      <td>0</td>\n",
       "      <td>0</td>\n",
       "      <td>1</td>\n",
       "    </tr>\n",
       "    <tr>\n",
       "      <th>4</th>\n",
       "      <td>69</td>\n",
       "      <td>1237</td>\n",
       "      <td>5</td>\n",
       "      <td>5</td>\n",
       "      <td>5</td>\n",
       "      <td>5</td>\n",
       "      <td>4</td>\n",
       "      <td>5</td>\n",
       "      <td>5</td>\n",
       "      <td>5</td>\n",
       "      <td>...</td>\n",
       "      <td>72.0</td>\n",
       "      <td>1</td>\n",
       "      <td>0</td>\n",
       "      <td>1</td>\n",
       "      <td>0</td>\n",
       "      <td>0</td>\n",
       "      <td>1</td>\n",
       "      <td>0</td>\n",
       "      <td>1</td>\n",
       "      <td>0</td>\n",
       "    </tr>\n",
       "  </tbody>\n",
       "</table>\n",
       "<p>5 rows × 27 columns</p>\n",
       "</div>"
      ],
      "text/plain": [
       "   Age  Flight Distance  Seat comfort  Departure/Arrival time convenient  \\\n",
       "0   39             2725             5                                  5   \n",
       "1   27             1634             3                                  3   \n",
       "2   21             1341             4                                  4   \n",
       "3   64             3794             2                                  5   \n",
       "4   69             1237             5                                  5   \n",
       "\n",
       "   Food and drink  Gate location  Inflight wifi service  \\\n",
       "0               2              5                      4   \n",
       "1               3              3                      3   \n",
       "2               0              1                      1   \n",
       "3               2              4                      2   \n",
       "4               5              5                      4   \n",
       "\n",
       "   Inflight entertainment  Online support  Ease of Online booking  ...  \\\n",
       "0                       4               5                       4  ...   \n",
       "1                       3               3                       3  ...   \n",
       "2                       0               1                       1  ...   \n",
       "3                       1               1                       5  ...   \n",
       "4                       5               5                       5  ...   \n",
       "\n",
       "   Arrival Delay in Minutes  Female  Male  Loyal Customer  disloyal Customer  \\\n",
       "0                      65.0       1     0               1                  0   \n",
       "1                      37.0       1     0               1                  0   \n",
       "2                       0.0       1     0               1                  0   \n",
       "3                     567.0       0     1               1                  0   \n",
       "4                      72.0       1     0               1                  0   \n",
       "\n",
       "   Business travel  Personal Travel  Business  Eco  Eco Plus  \n",
       "0                1                0         1    0         0  \n",
       "1                1                0         1    0         0  \n",
       "2                0                1         0    0         1  \n",
       "3                0                1         0    0         1  \n",
       "4                0                1         0    1         0  \n",
       "\n",
       "[5 rows x 27 columns]"
      ]
     },
     "execution_count": 9,
     "metadata": {},
     "output_type": "execute_result"
    }
   ],
   "source": [
    "train_dummy_featured.head()"
   ]
  },
  {
   "cell_type": "markdown",
   "metadata": {},
   "source": [
    "# 로지스틱 회귀"
   ]
  },
  {
   "cell_type": "markdown",
   "metadata": {},
   "source": [
    "로지스틱 회귀만 적용해서 정답률을 확인해보자"
   ]
  },
  {
   "cell_type": "code",
   "execution_count": 10,
   "metadata": {},
   "outputs": [],
   "source": [
    "from sklearn.preprocessing import StandardScaler \n",
    "scaler = StandardScaler()"
   ]
  },
  {
   "cell_type": "code",
   "execution_count": 11,
   "metadata": {},
   "outputs": [],
   "source": [
    "train_dummy_featured = scaler.fit_transform(train_dummy_featured)\n",
    "test_dummy_featured = scaler.transform(test_dummy_featured)"
   ]
  },
  {
   "cell_type": "code",
   "execution_count": 12,
   "metadata": {},
   "outputs": [
    {
     "data": {
      "text/plain": [
       "LogisticRegression()"
      ]
     },
     "execution_count": 12,
     "metadata": {},
     "output_type": "execute_result"
    }
   ],
   "source": [
    "from sklearn.linear_model import LogisticRegression\n",
    "\n",
    "model = LogisticRegression()\n",
    "model.fit(train_dummy_featured, train_label)"
   ]
  },
  {
   "cell_type": "code",
   "execution_count": 13,
   "metadata": {},
   "outputs": [
    {
     "name": "stdout",
     "output_type": "stream",
     "text": [
      "train acc :0.83\n",
      "test acc :0.84\n"
     ]
    }
   ],
   "source": [
    "print('train acc :%.2f'%model.score(train_dummy_featured, train_label))\n",
    "print('test acc :%.2f'%model.score(test_dummy_featured, test_label))"
   ]
  },
  {
   "cell_type": "code",
   "execution_count": 14,
   "metadata": {},
   "outputs": [
    {
     "data": {
      "text/plain": [
       "array([[-0.11968277, -0.10861566,  0.39619824, -0.31598761, -0.31458282,\n",
       "         0.16256787, -0.10199619,  0.92704786,  0.1225571 ,  0.2775299 ,\n",
       "         0.35834732,  0.29767369,  0.11997854,  0.37493028,  0.11171425,\n",
       "         0.22448189,  0.07598459, -0.27612082,  0.23469669, -0.23469669,\n",
       "         0.37261519, -0.37261519,  0.17542229, -0.17542229,  0.20875644,\n",
       "        -0.15498849, -0.10456164]])"
      ]
     },
     "execution_count": 14,
     "metadata": {},
     "output_type": "execute_result"
    }
   ],
   "source": [
    "model.coef_"
   ]
  },
  {
   "cell_type": "markdown",
   "metadata": {},
   "source": [
    "## 선형대수적으로 종속관계에 해당하는 범주들을 제거해보자"
   ]
  },
  {
   "cell_type": "code",
   "execution_count": 15,
   "metadata": {},
   "outputs": [],
   "source": [
    "train_dummy_featured = pd.concat([train_dummy_mat, Gender_train, Customer_Type_train, Type_of_Travel_train, Class_train ],axis = 1)\n",
    "\n",
    "test_dummy_featured = pd.concat([test_dummy_mat, Gender_test, Customer_Type_test, Type_of_Travel_test, Class_test ],axis = 1)"
   ]
  },
  {
   "cell_type": "code",
   "execution_count": 16,
   "metadata": {},
   "outputs": [],
   "source": [
    "train_dummy_independent = train_dummy_featured.drop(['Male', 'disloyal Customer', 'Personal Travel', 'Eco Plus'],axis = 1)\n",
    "\n",
    "test_dummy_independent = test_dummy_featured.drop(['Male', 'disloyal Customer', 'Personal Travel', 'Eco Plus'],axis = 1)"
   ]
  },
  {
   "cell_type": "code",
   "execution_count": 17,
   "metadata": {},
   "outputs": [],
   "source": [
    "train_dummy_independent = scaler.fit_transform(train_dummy_independent)\n",
    "\n",
    "test_dummy_independent = scaler.transform(test_dummy_independent)"
   ]
  },
  {
   "cell_type": "code",
   "execution_count": 18,
   "metadata": {},
   "outputs": [
    {
     "data": {
      "text/plain": [
       "LogisticRegression()"
      ]
     },
     "execution_count": 18,
     "metadata": {},
     "output_type": "execute_result"
    }
   ],
   "source": [
    "model2 = LogisticRegression()\n",
    "model2.fit(train_dummy_independent, train_label)"
   ]
  },
  {
   "cell_type": "code",
   "execution_count": 19,
   "metadata": {},
   "outputs": [
    {
     "name": "stdout",
     "output_type": "stream",
     "text": [
      "train acc :0.83\n",
      "test acc :0.84\n"
     ]
    }
   ],
   "source": [
    "print('train acc :%.2f'%model2.score(train_dummy_independent, train_label))\n",
    "print('test acc :%.2f'%model2.score(test_dummy_independent, test_label))"
   ]
  },
  {
   "cell_type": "code",
   "execution_count": 20,
   "metadata": {},
   "outputs": [
    {
     "data": {
      "text/plain": [
       "array([[-0.11964471, -0.10859281,  0.39620579, -0.31596193, -0.31464159,\n",
       "         0.16259427, -0.10200761,  0.92709365,  0.12253675,  0.27761742,\n",
       "         0.35829212,  0.29767258,  0.11997741,  0.37493055,  0.111692  ,\n",
       "         0.22439484,  0.07588963, -0.27602877,  0.46935177,  0.74511727,\n",
       "         0.35075378,  0.40912289,  0.04439178]])"
      ]
     },
     "execution_count": 20,
     "metadata": {},
     "output_type": "execute_result"
    }
   ],
   "source": [
    "model2.coef_"
   ]
  },
  {
   "cell_type": "markdown",
   "metadata": {},
   "source": [
    "시원찮네"
   ]
  },
  {
   "cell_type": "markdown",
   "metadata": {},
   "source": [
    "# LDA"
   ]
  },
  {
   "cell_type": "code",
   "execution_count": 21,
   "metadata": {},
   "outputs": [
    {
     "name": "stdout",
     "output_type": "stream",
     "text": [
      "(51794, 23)\n",
      "(51794,)\n"
     ]
    }
   ],
   "source": [
    "print(train_dummy_independent.shape)\n",
    "print(train_label.shape)"
   ]
  },
  {
   "cell_type": "code",
   "execution_count": 22,
   "metadata": {},
   "outputs": [
    {
     "name": "stdout",
     "output_type": "stream",
     "text": [
      "(51794, 1)\n",
      "(12949, 1)\n"
     ]
    }
   ],
   "source": [
    "from sklearn.discriminant_analysis import LinearDiscriminantAnalysis as LDA\n",
    "LDA_Model = LDA(store_covariance=True, n_components = 1)\n",
    "Train_independent_LDA = LDA_Model.fit_transform(train_dummy_independent, train_label)\n",
    "print(Train_independent_LDA.shape)\n",
    "\n",
    "test_independent_LDA = LDA_Model.fit_transform(test_dummy_independent, test_label)\n",
    "print(test_independent_LDA.shape)"
   ]
  },
  {
   "cell_type": "code",
   "execution_count": 23,
   "metadata": {},
   "outputs": [
    {
     "data": {
      "text/plain": [
       "LogisticRegression()"
      ]
     },
     "execution_count": 23,
     "metadata": {},
     "output_type": "execute_result"
    }
   ],
   "source": [
    "model3 = LogisticRegression()\n",
    "model3.fit(Train_independent_LDA, train_label)"
   ]
  },
  {
   "cell_type": "code",
   "execution_count": 24,
   "metadata": {},
   "outputs": [
    {
     "name": "stdout",
     "output_type": "stream",
     "text": [
      "train acc :0.84\n",
      "test acc :0.84\n"
     ]
    }
   ],
   "source": [
    "print('train acc :%.2f'%model3.score(Train_independent_LDA, train_label))\n",
    "print('test acc :%.2f'%model3.score(test_independent_LDA, test_label))"
   ]
  },
  {
   "cell_type": "markdown",
   "metadata": {},
   "source": [
    "시원찮다"
   ]
  },
  {
   "cell_type": "markdown",
   "metadata": {},
   "source": [
    "# Random Forest"
   ]
  },
  {
   "cell_type": "code",
   "execution_count": 26,
   "metadata": {},
   "outputs": [],
   "source": [
    "from sklearn.ensemble import RandomForestClassifier"
   ]
  },
  {
   "cell_type": "code",
   "execution_count": 27,
   "metadata": {},
   "outputs": [
    {
     "name": "stdout",
     "output_type": "stream",
     "text": [
      "train acc :1.00\n",
      "test acc :0.96\n"
     ]
    }
   ],
   "source": [
    "#기본 데이터\n",
    "model4 = RandomForestClassifier(random_state = 42)\n",
    "model4.fit(train_dummy_featured, train_label)\n",
    "print('train acc :%.2f'%model4.score(train_dummy_featured, train_label))\n",
    "print('test acc :%.2f'%model4.score(test_dummy_featured, test_label))"
   ]
  },
  {
   "cell_type": "code",
   "execution_count": 29,
   "metadata": {},
   "outputs": [
    {
     "name": "stdout",
     "output_type": "stream",
     "text": [
      "train acc :1.00\n",
      "test acc :0.95\n"
     ]
    }
   ],
   "source": [
    "# 종속변수 제거 데이터\n",
    "model5 = RandomForestClassifier(random_state = 42)\n",
    "model5.fit(train_dummy_independent, train_label)\n",
    "print('train acc :%.2f'%model5.score(train_dummy_independent, train_label))\n",
    "print('test acc :%.2f'%model5.score(test_dummy_independent, test_label))"
   ]
  },
  {
   "cell_type": "code",
   "execution_count": 30,
   "metadata": {},
   "outputs": [
    {
     "name": "stdout",
     "output_type": "stream",
     "text": [
      "train acc :1.00\n",
      "test acc :0.76\n"
     ]
    }
   ],
   "source": [
    "# LDA 데이터\n",
    "model6 = RandomForestClassifier(random_state = 42)\n",
    "model6.fit(Train_independent_LDA, train_label)\n",
    "print('train acc :%.2f'%model6.score(Train_independent_LDA, train_label))\n",
    "print('test acc :%.2f'%model6.score(test_independent_LDA, test_label))"
   ]
  },
  {
   "cell_type": "markdown",
   "metadata": {},
   "source": [
    "피쳐가 줄어드니 랜덤포레스트는 약한 모습을 보였다."
   ]
  },
  {
   "cell_type": "markdown",
   "metadata": {},
   "source": [
    "## 종속변수를 내 마음대로 제거했더니 오히려 정확도가 떨어지는 현상을 볼 수 있었다. "
   ]
  }
 ],
 "metadata": {
  "kernelspec": {
   "display_name": "Python 3",
   "language": "python",
   "name": "python3"
  },
  "language_info": {
   "codemirror_mode": {
    "name": "ipython",
    "version": 3
   },
   "file_extension": ".py",
   "mimetype": "text/x-python",
   "name": "python",
   "nbconvert_exporter": "python",
   "pygments_lexer": "ipython3",
   "version": "3.8.5"
  }
 },
 "nbformat": 4,
 "nbformat_minor": 4
}
